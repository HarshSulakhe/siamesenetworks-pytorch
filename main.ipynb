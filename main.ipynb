{
 "cells": [
  {
   "cell_type": "code",
   "execution_count": 1,
   "metadata": {},
   "outputs": [],
   "source": [
    "import torch\n",
    "import torchvision\n",
    "from torch.utils.data import DataLoader\n",
    "from torchvision.datasets import ImageFolder\n",
    "from utils import *\n",
    "from model import SiameseNetwork\n",
    "from loss import ContrastiveLoss\n",
    "from dataset import CUBContrast"
   ]
  },
  {
   "cell_type": "code",
   "execution_count": 2,
   "metadata": {},
   "outputs": [],
   "source": [
    "path = '/home/harsh/Downloads/CUB_200_2011/CUB_200_2011/'\n",
    "\n",
    "## Initialize parameters\n",
    "bs = 24\n",
    "lr = 1e-3\n",
    "threshold = 0.5\n",
    "margin = 2\n",
    "epochs = 100\n"
   ]
  },
  {
   "cell_type": "code",
   "execution_count": 3,
   "metadata": {},
   "outputs": [],
   "source": [
    "## Initialize network\n",
    "model = SiameseNetwork()\n",
    "model = model.cuda()\n",
    "\n",
    "## Initialize optimizer\n",
    "optim = torch.optim.Adam(model.parameters(),lr=lr)\n",
    "\n",
    "## Initialize scheduler\n",
    "scheduler = torch.optim.lr_scheduler.StepLR(optim,8)\n",
    "\n",
    "## Initialize loss\n",
    "criterion = ContrastiveLoss(margin)"
   ]
  },
  {
   "cell_type": "code",
   "execution_count": 4,
   "metadata": {},
   "outputs": [],
   "source": [
    "## Initialize datasets and dataloaders\n",
    "train_transforms = torchvision.transforms.Compose([\n",
    "            torchvision.transforms.Resize(size=(224,224)),  # Let smaller edge match\n",
    "            torchvision.transforms.RandomHorizontalFlip(),\n",
    "            torchvision.transforms.ToTensor(),\n",
    "            torchvision.transforms.Normalize(mean=(0.485, 0.456, 0.406),\n",
    "                                             std=(0.229, 0.224, 0.225))\n",
    "        ])\n",
    "valid_transforms = torchvision.transforms.Compose([\n",
    "            torchvision.transforms.Resize(size=(224,224)),\n",
    "            torchvision.transforms.ToTensor(),\n",
    "            torchvision.transforms.Normalize(mean=(0.485, 0.456, 0.406),\n",
    "                                             std=(0.229, 0.224, 0.225))\n",
    "        ])\n",
    "\n",
    "test_transforms = torchvision.transforms.Compose([\n",
    "            torchvision.transforms.Resize(size=(224,224)),\n",
    "            torchvision.transforms.ToTensor(),\n",
    "            torchvision.transforms.Normalize(mean=(0.485, 0.456, 0.406),\n",
    "                                             std=(0.229, 0.224, 0.225))\n",
    "        ])\n",
    "\n",
    "train_ds = CUBContrast(ImageFolder(root = path + 'train',transform=train_transforms))\n",
    "valid_ds = CUBContrast(ImageFolder(root = path + 'valid',transform=valid_transforms))\n",
    "test_ds = CUBContrast(ImageFolder(root = path + 'test',transform=test_transforms))\n",
    "\n",
    "train_dl = DataLoader(train_ds,batch_size=bs)\n",
    "valid_dl = DataLoader(valid_ds,batch_size=bs)\n",
    "test_dl = DataLoader(test_ds,batch_size=bs)"
   ]
  },
  {
   "cell_type": "code",
   "execution_count": 5,
   "metadata": {},
   "outputs": [
    {
     "name": "stdout",
     "output_type": "stream",
     "text": [
      "Epoch [1/100] ----> Training loss :0.023231718175077954 \tValidation loss :0 \n",
      " Validation Accuracy: 0.0\n"
     ]
    },
    {
     "ename": "KeyboardInterrupt",
     "evalue": "",
     "output_type": "error",
     "traceback": [
      "\u001b[0;31m---------------------------------------------------------------------------\u001b[0m",
      "\u001b[0;31mKeyboardInterrupt\u001b[0m                         Traceback (most recent call last)",
      "\u001b[0;32m<ipython-input-5-02f8681c7e50>\u001b[0m in \u001b[0;36m<module>\u001b[0;34m\u001b[0m\n\u001b[1;32m      6\u001b[0m     \u001b[0;32mfor\u001b[0m \u001b[0mi\u001b[0m\u001b[0;34m,\u001b[0m\u001b[0;34m(\u001b[0m\u001b[0minput1\u001b[0m\u001b[0;34m,\u001b[0m\u001b[0minput2\u001b[0m\u001b[0;34m,\u001b[0m\u001b[0mtarget\u001b[0m\u001b[0;34m)\u001b[0m \u001b[0;32min\u001b[0m \u001b[0menumerate\u001b[0m\u001b[0;34m(\u001b[0m\u001b[0mtrain_dl\u001b[0m\u001b[0;34m)\u001b[0m\u001b[0;34m:\u001b[0m\u001b[0;34m\u001b[0m\u001b[0;34m\u001b[0m\u001b[0m\n\u001b[1;32m      7\u001b[0m         \u001b[0moptim\u001b[0m\u001b[0;34m.\u001b[0m\u001b[0mzero_grad\u001b[0m\u001b[0;34m(\u001b[0m\u001b[0;34m)\u001b[0m\u001b[0;34m\u001b[0m\u001b[0;34m\u001b[0m\u001b[0m\n\u001b[0;32m----> 8\u001b[0;31m         \u001b[0moutput1\u001b[0m \u001b[0;34m=\u001b[0m \u001b[0mmodel\u001b[0m\u001b[0;34m(\u001b[0m\u001b[0minput1\u001b[0m\u001b[0;34m.\u001b[0m\u001b[0mcuda\u001b[0m\u001b[0;34m(\u001b[0m\u001b[0;34m)\u001b[0m\u001b[0;34m)\u001b[0m\u001b[0;34m\u001b[0m\u001b[0;34m\u001b[0m\u001b[0m\n\u001b[0m\u001b[1;32m      9\u001b[0m         \u001b[0moutput2\u001b[0m \u001b[0;34m=\u001b[0m \u001b[0mmodel\u001b[0m\u001b[0;34m(\u001b[0m\u001b[0minput2\u001b[0m\u001b[0;34m.\u001b[0m\u001b[0mcuda\u001b[0m\u001b[0;34m(\u001b[0m\u001b[0;34m)\u001b[0m\u001b[0;34m)\u001b[0m\u001b[0;34m\u001b[0m\u001b[0;34m\u001b[0m\u001b[0m\n\u001b[1;32m     10\u001b[0m         \u001b[0mloss\u001b[0m \u001b[0;34m=\u001b[0m \u001b[0mcriterion\u001b[0m\u001b[0;34m(\u001b[0m\u001b[0moutput1\u001b[0m\u001b[0;34m,\u001b[0m\u001b[0moutput2\u001b[0m\u001b[0;34m,\u001b[0m\u001b[0mtarget\u001b[0m\u001b[0;34m.\u001b[0m\u001b[0mcuda\u001b[0m\u001b[0;34m(\u001b[0m\u001b[0;34m)\u001b[0m\u001b[0;34m)\u001b[0m\u001b[0;34m\u001b[0m\u001b[0;34m\u001b[0m\u001b[0m\n",
      "\u001b[0;31mKeyboardInterrupt\u001b[0m: "
     ]
    }
   ],
   "source": [
    "train_loss = []\n",
    "valid_loss = []\n",
    "for epoch in range(epochs):\n",
    "    train_epoch_loss = 0\n",
    "    model.train()    \n",
    "    for i,(input1,input2,target) in enumerate(train_dl):\n",
    "        optim.zero_grad()\n",
    "        output1 = model(input1.cuda())\n",
    "        output2 = model(input2.cuda())\n",
    "        loss = criterion(output1,output2,target.cuda())\n",
    "#         print(loss.item())\n",
    "        train_epoch_loss += loss.item()\n",
    "        train_loss.append(loss.item())\n",
    "        loss.backward()\n",
    "        optim.step()\n",
    "#         scheduler.step()\n",
    "        \n",
    "    train_epoch_loss /= len(train_ds)\n",
    "    valid_epoch_loss = 0\n",
    "    val_accuracy = 0\n",
    "#     model.eval()\n",
    "#     for i,(input1,input2,target) in enumerate(valid_dl):\n",
    "#         optim.zero_grad()\n",
    "#         output1 = model(input1.cuda())\n",
    "#         output2 = model(input2.cuda())\n",
    "#         loss = criterion(output1,output2,target.cuda())\n",
    "# #         print(loss.item())\n",
    "#         valid_epoch_loss += loss.item()\n",
    "#         valid_loss.append(loss.item())\n",
    "#         val_accuracy += evaluate_pair(output1,output2,target.cuda(),0.5)\n",
    "        \n",
    "#     valid_epoch_loss /= len(valid_ds)\n",
    "    \n",
    "    print(\"Epoch [{}/{}] ----> Training loss :{} \\tValidation loss :{} \\n Validation Accuracy: {}\".format(epoch+1,epochs,train_epoch_loss,valid_epoch_loss,val_accuracy/len(valid_ds)))"
   ]
  },
  {
   "cell_type": "code",
   "execution_count": null,
   "metadata": {},
   "outputs": [],
   "source": [
    "from torchsummary import summary"
   ]
  },
  {
   "cell_type": "code",
   "execution_count": null,
   "metadata": {},
   "outputs": [],
   "source": [
    "summary(model,(3,224,224),batch_size = 64)"
   ]
  },
  {
   "cell_type": "code",
   "execution_count": null,
   "metadata": {
    "scrolled": true
   },
   "outputs": [],
   "source": [
    "# for i in range(len(train_ds)):\n",
    "#     print(i,train_ds[i][0].size(),train_ds[i][1].size(),)"
   ]
  },
  {
   "cell_type": "code",
   "execution_count": null,
   "metadata": {},
   "outputs": [],
   "source": []
  }
 ],
 "metadata": {
  "kernelspec": {
   "display_name": "Python 3",
   "language": "python",
   "name": "python3"
  },
  "language_info": {
   "codemirror_mode": {
    "name": "ipython",
    "version": 3
   },
   "file_extension": ".py",
   "mimetype": "text/x-python",
   "name": "python",
   "nbconvert_exporter": "python",
   "pygments_lexer": "ipython3",
   "version": "3.7.7"
  }
 },
 "nbformat": 4,
 "nbformat_minor": 4
}
